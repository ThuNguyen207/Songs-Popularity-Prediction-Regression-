{
 "cells": [
  {
   "cell_type": "markdown",
   "id": "43c7bfc2",
   "metadata": {},
   "source": [
    "# 1. General setup"
   ]
  },
  {
   "cell_type": "code",
   "execution_count": 1,
   "id": "8ae767c5",
   "metadata": {},
   "outputs": [],
   "source": [
    "# Python ≥3.5 is required\n",
    "import sys\n",
    "assert sys.version_info >= (3, 5)\n",
    "\n",
    "# Scikit-Learn ≥0.20 is required\n",
    "import sklearn\n",
    "assert sklearn.__version__ >= \"0.20\"\n",
    "\n",
    "# Common imports\n",
    "import numpy as np\n",
    "import pandas as pd\n",
    "import os\n",
    "import seaborn as sns\n",
    "\n",
    "# To plot pretty figures\n",
    "%matplotlib inline\n",
    "import matplotlib as mpl\n",
    "import matplotlib.pyplot as plt\n",
    "mpl.rc('axes', labelsize=14)\n",
    "mpl.rc('xtick', labelsize=12)\n",
    "mpl.rc('ytick', labelsize=12)"
   ]
  },
  {
   "cell_type": "markdown",
   "id": "eb274531",
   "metadata": {},
   "source": [
    "# 2. Import data & exploring data"
   ]
  },
  {
   "cell_type": "markdown",
   "id": "b55a08f6",
   "metadata": {},
   "source": [
    "Download the data from a local .csv file, save it in a Pandas DataFrame, take a quick look at the first few line of the training dataset."
   ]
  },
  {
   "cell_type": "code",
   "execution_count": 2,
   "id": "57c8eff2",
   "metadata": {},
   "outputs": [
    {
     "data": {
      "text/html": [
       "<div>\n",
       "<style scoped>\n",
       "    .dataframe tbody tr th:only-of-type {\n",
       "        vertical-align: middle;\n",
       "    }\n",
       "\n",
       "    .dataframe tbody tr th {\n",
       "        vertical-align: top;\n",
       "    }\n",
       "\n",
       "    .dataframe thead th {\n",
       "        text-align: right;\n",
       "    }\n",
       "</style>\n",
       "<table border=\"1\" class=\"dataframe\">\n",
       "  <thead>\n",
       "    <tr style=\"text-align: right;\">\n",
       "      <th></th>\n",
       "      <th>Id</th>\n",
       "      <th>title</th>\n",
       "      <th>artist</th>\n",
       "      <th>top genre</th>\n",
       "      <th>year</th>\n",
       "      <th>bpm</th>\n",
       "      <th>nrgy</th>\n",
       "      <th>dnce</th>\n",
       "      <th>dB</th>\n",
       "      <th>live</th>\n",
       "      <th>val</th>\n",
       "      <th>dur</th>\n",
       "      <th>acous</th>\n",
       "      <th>spch</th>\n",
       "      <th>pop</th>\n",
       "    </tr>\n",
       "  </thead>\n",
       "  <tbody>\n",
       "    <tr>\n",
       "      <th>0</th>\n",
       "      <td>1</td>\n",
       "      <td>My Happiness</td>\n",
       "      <td>Connie Francis</td>\n",
       "      <td>adult standards</td>\n",
       "      <td>1996</td>\n",
       "      <td>107</td>\n",
       "      <td>31</td>\n",
       "      <td>45</td>\n",
       "      <td>-8</td>\n",
       "      <td>13</td>\n",
       "      <td>28</td>\n",
       "      <td>150</td>\n",
       "      <td>75</td>\n",
       "      <td>3</td>\n",
       "      <td>44</td>\n",
       "    </tr>\n",
       "    <tr>\n",
       "      <th>1</th>\n",
       "      <td>2</td>\n",
       "      <td>Unchained Melody</td>\n",
       "      <td>The Teddy Bears</td>\n",
       "      <td>NaN</td>\n",
       "      <td>2011</td>\n",
       "      <td>114</td>\n",
       "      <td>44</td>\n",
       "      <td>53</td>\n",
       "      <td>-8</td>\n",
       "      <td>13</td>\n",
       "      <td>47</td>\n",
       "      <td>139</td>\n",
       "      <td>49</td>\n",
       "      <td>3</td>\n",
       "      <td>37</td>\n",
       "    </tr>\n",
       "    <tr>\n",
       "      <th>2</th>\n",
       "      <td>3</td>\n",
       "      <td>How Deep Is Your Love</td>\n",
       "      <td>Bee Gees</td>\n",
       "      <td>adult standards</td>\n",
       "      <td>1979</td>\n",
       "      <td>105</td>\n",
       "      <td>36</td>\n",
       "      <td>63</td>\n",
       "      <td>-9</td>\n",
       "      <td>13</td>\n",
       "      <td>67</td>\n",
       "      <td>245</td>\n",
       "      <td>11</td>\n",
       "      <td>3</td>\n",
       "      <td>77</td>\n",
       "    </tr>\n",
       "  </tbody>\n",
       "</table>\n",
       "</div>"
      ],
      "text/plain": [
       "   Id                  title           artist        top genre  year  bpm  \\\n",
       "0   1           My Happiness   Connie Francis  adult standards  1996  107   \n",
       "1   2       Unchained Melody  The Teddy Bears              NaN  2011  114   \n",
       "2   3  How Deep Is Your Love         Bee Gees  adult standards  1979  105   \n",
       "\n",
       "   nrgy  dnce  dB  live  val  dur  acous  spch  pop  \n",
       "0    31    45  -8    13   28  150     75     3   44  \n",
       "1    44    53  -8    13   47  139     49     3   37  \n",
       "2    36    63  -9    13   67  245     11     3   77  "
      ]
     },
     "execution_count": 2,
     "metadata": {},
     "output_type": "execute_result"
    }
   ],
   "source": [
    "df=pd.read_csv('RegressionTrain.csv')\n",
    "df.head(3)"
   ]
  },
  {
   "cell_type": "markdown",
   "id": "1b263b0e",
   "metadata": {},
   "source": [
    "info() provides us with details about the number of columns in the data frame, size (number of rows), and the type of the data."
   ]
  },
  {
   "cell_type": "code",
   "execution_count": 3,
   "id": "999290df",
   "metadata": {
    "scrolled": true
   },
   "outputs": [
    {
     "name": "stdout",
     "output_type": "stream",
     "text": [
      "<class 'pandas.core.frame.DataFrame'>\n",
      "RangeIndex: 453 entries, 0 to 452\n",
      "Data columns (total 15 columns):\n",
      " #   Column     Non-Null Count  Dtype \n",
      "---  ------     --------------  ----- \n",
      " 0   Id         453 non-null    int64 \n",
      " 1   title      453 non-null    object\n",
      " 2   artist     453 non-null    object\n",
      " 3   top genre  438 non-null    object\n",
      " 4   year       453 non-null    int64 \n",
      " 5   bpm        453 non-null    int64 \n",
      " 6   nrgy       453 non-null    int64 \n",
      " 7   dnce       453 non-null    int64 \n",
      " 8   dB         453 non-null    int64 \n",
      " 9   live       453 non-null    int64 \n",
      " 10  val        453 non-null    int64 \n",
      " 11  dur        453 non-null    int64 \n",
      " 12  acous      453 non-null    int64 \n",
      " 13  spch       453 non-null    int64 \n",
      " 14  pop        453 non-null    int64 \n",
      "dtypes: int64(12), object(3)\n",
      "memory usage: 53.2+ KB\n"
     ]
    }
   ],
   "source": [
    "df.info()"
   ]
  },
  {
   "cell_type": "markdown",
   "id": "cf50dae7",
   "metadata": {},
   "source": [
    "This dataset contain 15 columns and 453 instances. There are 3 non-numeric attributes, Id column, and 11 numeric attributes.\n",
    "\n",
    "Due to year has meaning of timeline, so I convert it to age which has quantitative meaning and could be more helpful for regression problem."
   ]
  },
  {
   "cell_type": "code",
   "execution_count": 4,
   "id": "aed7e796",
   "metadata": {},
   "outputs": [
    {
     "data": {
      "text/html": [
       "<div>\n",
       "<style scoped>\n",
       "    .dataframe tbody tr th:only-of-type {\n",
       "        vertical-align: middle;\n",
       "    }\n",
       "\n",
       "    .dataframe tbody tr th {\n",
       "        vertical-align: top;\n",
       "    }\n",
       "\n",
       "    .dataframe thead th {\n",
       "        text-align: right;\n",
       "    }\n",
       "</style>\n",
       "<table border=\"1\" class=\"dataframe\">\n",
       "  <thead>\n",
       "    <tr style=\"text-align: right;\">\n",
       "      <th></th>\n",
       "      <th>Id</th>\n",
       "      <th>title</th>\n",
       "      <th>artist</th>\n",
       "      <th>top genre</th>\n",
       "      <th>bpm</th>\n",
       "      <th>nrgy</th>\n",
       "      <th>dnce</th>\n",
       "      <th>dB</th>\n",
       "      <th>live</th>\n",
       "      <th>val</th>\n",
       "      <th>dur</th>\n",
       "      <th>acous</th>\n",
       "      <th>spch</th>\n",
       "      <th>pop</th>\n",
       "      <th>age</th>\n",
       "    </tr>\n",
       "  </thead>\n",
       "  <tbody>\n",
       "    <tr>\n",
       "      <th>0</th>\n",
       "      <td>1</td>\n",
       "      <td>My Happiness</td>\n",
       "      <td>Connie Francis</td>\n",
       "      <td>adult standards</td>\n",
       "      <td>107</td>\n",
       "      <td>31</td>\n",
       "      <td>45</td>\n",
       "      <td>-8</td>\n",
       "      <td>13</td>\n",
       "      <td>28</td>\n",
       "      <td>150</td>\n",
       "      <td>75</td>\n",
       "      <td>3</td>\n",
       "      <td>44</td>\n",
       "      <td>26</td>\n",
       "    </tr>\n",
       "    <tr>\n",
       "      <th>1</th>\n",
       "      <td>2</td>\n",
       "      <td>Unchained Melody</td>\n",
       "      <td>The Teddy Bears</td>\n",
       "      <td>NaN</td>\n",
       "      <td>114</td>\n",
       "      <td>44</td>\n",
       "      <td>53</td>\n",
       "      <td>-8</td>\n",
       "      <td>13</td>\n",
       "      <td>47</td>\n",
       "      <td>139</td>\n",
       "      <td>49</td>\n",
       "      <td>3</td>\n",
       "      <td>37</td>\n",
       "      <td>11</td>\n",
       "    </tr>\n",
       "    <tr>\n",
       "      <th>2</th>\n",
       "      <td>3</td>\n",
       "      <td>How Deep Is Your Love</td>\n",
       "      <td>Bee Gees</td>\n",
       "      <td>adult standards</td>\n",
       "      <td>105</td>\n",
       "      <td>36</td>\n",
       "      <td>63</td>\n",
       "      <td>-9</td>\n",
       "      <td>13</td>\n",
       "      <td>67</td>\n",
       "      <td>245</td>\n",
       "      <td>11</td>\n",
       "      <td>3</td>\n",
       "      <td>77</td>\n",
       "      <td>43</td>\n",
       "    </tr>\n",
       "  </tbody>\n",
       "</table>\n",
       "</div>"
      ],
      "text/plain": [
       "   Id                  title           artist        top genre  bpm  nrgy  \\\n",
       "0   1           My Happiness   Connie Francis  adult standards  107    31   \n",
       "1   2       Unchained Melody  The Teddy Bears              NaN  114    44   \n",
       "2   3  How Deep Is Your Love         Bee Gees  adult standards  105    36   \n",
       "\n",
       "   dnce  dB  live  val  dur  acous  spch  pop  age  \n",
       "0    45  -8    13   28  150     75     3   44   26  \n",
       "1    53  -8    13   47  139     49     3   37   11  \n",
       "2    63  -9    13   67  245     11     3   77   43  "
      ]
     },
     "execution_count": 4,
     "metadata": {},
     "output_type": "execute_result"
    }
   ],
   "source": [
    "from datetime import date\n",
    "today=date.today()\n",
    "df['age']=today.year-df['year']\n",
    "df = df.drop('year', axis=1)\n",
    "df.head(3)"
   ]
  },
  {
   "cell_type": "markdown",
   "id": "290aa053",
   "metadata": {},
   "source": [
    "Check null values"
   ]
  },
  {
   "cell_type": "code",
   "execution_count": 5,
   "id": "27c4280e",
   "metadata": {
    "scrolled": true
   },
   "outputs": [
    {
     "data": {
      "text/plain": [
       "Id            0\n",
       "title         0\n",
       "artist        0\n",
       "top genre    15\n",
       "bpm           0\n",
       "nrgy          0\n",
       "dnce          0\n",
       "dB            0\n",
       "live          0\n",
       "val           0\n",
       "dur           0\n",
       "acous         0\n",
       "spch          0\n",
       "pop           0\n",
       "age           0\n",
       "dtype: int64"
      ]
     },
     "execution_count": 5,
     "metadata": {},
     "output_type": "execute_result"
    }
   ],
   "source": [
    "df.isnull().sum()"
   ]
  },
  {
   "cell_type": "markdown",
   "id": "e5cd008f",
   "metadata": {},
   "source": [
    "The only column which contains null values is \"top genre\".\n",
    "\n",
    "Next step, I investigate three non-numeric attributes."
   ]
  },
  {
   "cell_type": "code",
   "execution_count": 6,
   "id": "ff27deba",
   "metadata": {
    "scrolled": true
   },
   "outputs": [
    {
     "data": {
      "text/plain": [
       "Take Good Care Of My Baby - 1990 Remastered    2\n",
       "Please Mr. Postman                             2\n",
       "Lollipop                                       1\n",
       "Held for Questioning                           1\n",
       "Last Christmas                                 1\n",
       "                                              ..\n",
       "Freed From Desire                              1\n",
       "Doin' It                                       1\n",
       "Don't Stop                                     1\n",
       "I Have Nothing - Film Version                  1\n",
       "We Will Rock You - Remastered                  1\n",
       "Name: title, Length: 451, dtype: int64"
      ]
     },
     "execution_count": 6,
     "metadata": {},
     "output_type": "execute_result"
    }
   ],
   "source": [
    "df['title'].value_counts()"
   ]
  },
  {
   "cell_type": "code",
   "execution_count": 7,
   "id": "411e1ad4",
   "metadata": {
    "scrolled": true
   },
   "outputs": [
    {
     "data": {
      "text/plain": [
       "Elton John                 9\n",
       "ABBA                       7\n",
       "Queen                      7\n",
       "The Beatles                6\n",
       "Whitney Houston            5\n",
       "                          ..\n",
       "Craig David                1\n",
       "Timi Yuro                  1\n",
       "Ike Carpenter Orchestra    1\n",
       "Yazoo                      1\n",
       "John Denver                1\n",
       "Name: artist, Length: 345, dtype: int64"
      ]
     },
     "execution_count": 7,
     "metadata": {},
     "output_type": "execute_result"
    }
   ],
   "source": [
    "artist_count=df['artist'].value_counts()\n",
    "artist_count"
   ]
  },
  {
   "cell_type": "code",
   "execution_count": 8,
   "id": "b4fb73fe",
   "metadata": {},
   "outputs": [
    {
     "data": {
      "text/plain": [
       "adult standards       68\n",
       "album rock            66\n",
       "dance pop             61\n",
       "brill building pop    16\n",
       "glam rock             16\n",
       "                      ..\n",
       "glam punk              1\n",
       "belgian dance          1\n",
       "afrobeat               1\n",
       "italian pop            1\n",
       "uk garage              1\n",
       "Name: top genre, Length: 86, dtype: int64"
      ]
     },
     "execution_count": 8,
     "metadata": {},
     "output_type": "execute_result"
    }
   ],
   "source": [
    "df['top genre'].value_counts()"
   ]
  },
  {
   "cell_type": "markdown",
   "id": "7ab87358",
   "metadata": {},
   "source": [
    "As we can see, there are 86 different categories in 'top genre' column, 345 different artists in the 'artist' column, and 451 titles in the 'title' column. If we use 'OneHotEncoder' to convert these columns to numerical (binary) data, we will have to many columns. On the other hand, the dataframe has only 453 instances. Therefore, in this project, I will not use these three columns for building regression models. As a result, 15 NAN values in 'top genre' column will not cause any issue since this column will be excluded. \n",
    "\n",
    "Moreover, there are two titles: \"Take Good Care Of My Baby - 1990 Remastered\" and \"Please Mr. Postman\" that are repeated twice in the dataset. I will try to deal with this issue in the prepare data section.  "
   ]
  },
  {
   "cell_type": "markdown",
   "id": "437bfee0",
   "metadata": {},
   "source": [
    "    "
   ]
  },
  {
   "cell_type": "markdown",
   "id": "98ccc2da",
   "metadata": {},
   "source": [
    "Plot histogram for numeric attribute to see the distribution of training data."
   ]
  },
  {
   "cell_type": "code",
   "execution_count": 9,
   "id": "f0095926",
   "metadata": {},
   "outputs": [
    {
     "data": {
      "image/png": "[encoded data removed]",
      "text/plain": [
       "<Figure size 1440x1080 with 12 Axes>"
      ]
     },
     "metadata": {
      "needs_background": "light"
     },
     "output_type": "display_data"
    }
   ],
   "source": [
    "df[['bpm','nrgy','dnce','dB','live','val','dur','acous','spch','pop','age']].hist(bins=50, figsize=(20,15))\n",
    "plt.show()"
   ]
  },
  {
   "cell_type": "markdown",
   "id": "1cfb998c",
   "metadata": {},
   "source": [
    "# 3. Data visuallisation"
   ]
  },
  {
   "cell_type": "markdown",
   "id": "b0f69daf",
   "metadata": {},
   "source": [
    "Calculate correlation coefficients."
   ]
  },
  {
   "cell_type": "code",
   "execution_count": 10,
   "id": "67aeeced",
   "metadata": {
    "scrolled": false
   },
   "outputs": [
    {
     "data": {
      "text/plain": [
       "pop      1.000000\n",
       "dur      0.363266\n",
       "dB       0.316854\n",
       "nrgy     0.303797\n",
       "dnce     0.258670\n",
       "spch     0.130955\n",
       "Id       0.086837\n",
       "bpm      0.055024\n",
       "age      0.054293\n",
       "val     -0.018713\n",
       "live    -0.051364\n",
       "acous   -0.465875\n",
       "Name: pop, dtype: float64"
      ]
     },
     "execution_count": 10,
     "metadata": {},
     "output_type": "execute_result"
    }
   ],
   "source": [
    "corr_matrix = df.corr()\n",
    "corr_matrix[\"pop\"].sort_values(ascending=False)"
   ]
  },
  {
   "cell_type": "markdown",
   "id": "09e45b7b",
   "metadata": {},
   "source": [
    "Next step, I plot scatter graphs and regression lines for 'pop' versus each individual feature (except feature 'val', since 'val' has very low correletation with 'pop'). In facts, I tried many times for both linear and non-linear assumptions with different degree. These plots below are our best options."
   ]
  },
  {
   "cell_type": "code",
   "execution_count": 11,
   "id": "6377e79a",
   "metadata": {},
   "outputs": [
    {
     "data": {
      "text/plain": [
       "[<matplotlib.lines.Line2D at 0x2772484ceb0>]"
      ]
     },
     "execution_count": 11,
     "metadata": {},
     "output_type": "execute_result"
    },
    {
     "data": {
      "image/png": "[encoded data removed]",
      "text/plain": [
       "<Figure size 576x288 with 1 Axes>"
      ]
     },
     "metadata": {
      "needs_background": "light"
     },
     "output_type": "display_data"
    }
   ],
   "source": [
    "# live & pop\n",
    "Xplot = df['live']\n",
    "fig = plt.figure(figsize=(8, 4))\n",
    "ax = fig.add_axes([0,0,1,1])\n",
    "z = np.polyfit(Xplot, df['pop'], 1)\n",
    "p = np.poly1d(z)\n",
    "ax.scatter(Xplot, df['pop'])\n",
    "ax.plot(Xplot, p(Xplot))"
   ]
  },
  {
   "cell_type": "code",
   "execution_count": 12,
   "id": "a22da006",
   "metadata": {},
   "outputs": [
    {
     "data": {
      "text/plain": [
       "[<matplotlib.lines.Line2D at 0x277239b89a0>]"
      ]
     },
     "execution_count": 12,
     "metadata": {},
     "output_type": "execute_result"
    },
    {
     "data": {
      "image/png": "[encoded data removed]",
      "text/plain": [
       "<Figure size 576x288 with 1 Axes>"
      ]
     },
     "metadata": {
      "needs_background": "light"
     },
     "output_type": "display_data"
    }
   ],
   "source": [
    "# bpm & pop\n",
    "Xplot = df['bpm']\n",
    "fig = plt.figure(figsize=(8, 4))\n",
    "ax = fig.add_axes([0,0,1,1])\n",
    "z = np.polyfit(Xplot, df['pop'], 1)\n",
    "p = np.poly1d(z)\n",
    "ax.scatter(Xplot, df['pop'])\n",
    "ax.plot(Xplot, p(Xplot))"
   ]
  },
  {
   "cell_type": "code",
   "execution_count": 13,
   "id": "d626291b",
   "metadata": {},
   "outputs": [
    {
     "data": {
      "text/plain": [
       "[<matplotlib.lines.Line2D at 0x27723a1d5e0>]"
      ]
     },
     "execution_count": 13,
     "metadata": {},
     "output_type": "execute_result"
    },
    {
     "data": {
      "image/png": "[encoded data removed]",
      "text/plain": [
       "<Figure size 576x288 with 1 Axes>"
      ]
     },
     "metadata": {
      "needs_background": "light"
     },
     "output_type": "display_data"
    }
   ],
   "source": [
    "# spch & pop\n",
    "Xplot = df['spch']\n",
    "fig = plt.figure(figsize=(8, 4))\n",
    "ax = fig.add_axes([0,0,1,1])\n",
    "z = np.polyfit(Xplot, df['pop'], 1)\n",
    "p = np.poly1d(z)\n",
    "ax.scatter(Xplot, df['pop'])\n",
    "ax.plot(Xplot, p(Xplot))"
   ]
  },
  {
   "cell_type": "code",
   "execution_count": 14,
   "id": "5c128e6f",
   "metadata": {},
   "outputs": [
    {
     "data": {
      "text/plain": [
       "[<matplotlib.lines.Line2D at 0x27723a763a0>]"
      ]
     },
     "execution_count": 14,
     "metadata": {},
     "output_type": "execute_result"
    },
    {
     "data": {
      "image/png": "[encoded data removed]",
      "text/plain": [
       "<Figure size 576x288 with 1 Axes>"
      ]
     },
     "metadata": {
      "needs_background": "light"
     },
     "output_type": "display_data"
    }
   ],
   "source": [
    "# nrgy & pop\n",
    "Xplot = df['nrgy']\n",
    "fig = plt.figure(figsize=(8, 4))\n",
    "ax = fig.add_axes([0,0,1,1])\n",
    "z = np.polyfit(Xplot, df['pop'], 1)\n",
    "p = np.poly1d(z)\n",
    "ax.scatter(Xplot, df['pop'])\n",
    "ax.plot(Xplot, p(Xplot))"
   ]
  },
  {
   "cell_type": "code",
   "execution_count": 15,
   "id": "db099efa",
   "metadata": {},
   "outputs": [
    {
     "data": {
      "text/plain": [
       "[<matplotlib.lines.Line2D at 0x27723acf130>]"
      ]
     },
     "execution_count": 15,
     "metadata": {},
     "output_type": "execute_result"
    },
    {
     "data": {
      "image/png": "[encoded data removed]",
      "text/plain": [
       "<Figure size 576x288 with 1 Axes>"
      ]
     },
     "metadata": {
      "needs_background": "light"
     },
     "output_type": "display_data"
    }
   ],
   "source": [
    "# dur & pop\n",
    "Xplot = df['dur']\n",
    "fig = plt.figure(figsize=(8, 4))\n",
    "ax = fig.add_axes([0,0,1,1])\n",
    "z = np.polyfit(Xplot, df['pop'], 2)\n",
    "p = np.poly1d(z)\n",
    "ax.scatter(Xplot, df['pop'])\n",
    "ax.plot(Xplot, p(Xplot))"
   ]
  },
  {
   "cell_type": "code",
   "execution_count": 16,
   "id": "0ed234f4",
   "metadata": {},
   "outputs": [
    {
     "data": {
      "text/plain": [
       "[<matplotlib.lines.Line2D at 0x27723b17e80>]"
      ]
     },
     "execution_count": 16,
     "metadata": {},
     "output_type": "execute_result"
    },
    {
     "data": {
      "image/png": "[encoded data removed]",
      "text/plain": [
       "<Figure size 576x288 with 1 Axes>"
      ]
     },
     "metadata": {
      "needs_background": "light"
     },
     "output_type": "display_data"
    }
   ],
   "source": [
    "# dB & pop\n",
    "Xplot = df['dB']\n",
    "fig = plt.figure(figsize=(8, 4))\n",
    "ax = fig.add_axes([0,0,1,1])\n",
    "z = np.polyfit(Xplot, df['pop'], 1)\n",
    "p = np.poly1d(z)\n",
    "ax.scatter(Xplot, df['pop'])\n",
    "ax.plot(Xplot, p(Xplot))"
   ]
  },
  {
   "cell_type": "code",
   "execution_count": 17,
   "id": "149edec5",
   "metadata": {},
   "outputs": [
    {
     "data": {
      "text/plain": [
       "[<matplotlib.lines.Line2D at 0x2772400aa90>]"
      ]
     },
     "execution_count": 17,
     "metadata": {},
     "output_type": "execute_result"
    },
    {
     "data": {
      "image/png": "[encoded data removed]",
      "text/plain": [
       "<Figure size 576x288 with 1 Axes>"
      ]
     },
     "metadata": {
      "needs_background": "light"
     },
     "output_type": "display_data"
    }
   ],
   "source": [
    "# dnce & pop\n",
    "Xplot = df['dnce']\n",
    "fig = plt.figure(figsize=(8, 4))\n",
    "ax = fig.add_axes([0,0,1,1])\n",
    "z = np.polyfit(Xplot, df['pop'], 1)\n",
    "p = np.poly1d(z)\n",
    "ax.scatter(Xplot, df['pop'])\n",
    "ax.plot(Xplot, p(Xplot))"
   ]
  },
  {
   "cell_type": "code",
   "execution_count": 18,
   "id": "66433b7f",
   "metadata": {},
   "outputs": [
    {
     "data": {
      "text/plain": [
       "[<matplotlib.lines.Line2D at 0x27723f5d0d0>]"
      ]
     },
     "execution_count": 18,
     "metadata": {},
     "output_type": "execute_result"
    },
    {
     "data": {
      "image/png": "[encoded data removed]",
      "text/plain": [
       "<Figure size 576x288 with 1 Axes>"
      ]
     },
     "metadata": {
      "needs_background": "light"
     },
     "output_type": "display_data"
    }
   ],
   "source": [
    "# acous & pop\n",
    "Xplot = df['acous']\n",
    "fig = plt.figure(figsize=(8, 4))\n",
    "ax = fig.add_axes([0,0,1,1])\n",
    "z = np.polyfit(Xplot, df['pop'], 1)\n",
    "p = np.poly1d(z)\n",
    "ax.scatter(Xplot, df['pop'])\n",
    "ax.plot(Xplot, p(Xplot))"
   ]
  },
  {
   "cell_type": "code",
   "execution_count": 19,
   "id": "71fe4c48",
   "metadata": {
    "scrolled": true
   },
   "outputs": [
    {
     "data": {
      "text/plain": [
       "[<matplotlib.lines.Line2D at 0x277237424f0>]"
      ]
     },
     "execution_count": 19,
     "metadata": {},
     "output_type": "execute_result"
    },
    {
     "data": {
      "image/png": "[encoded data removed]",
      "text/plain": [
       "<Figure size 576x288 with 1 Axes>"
      ]
     },
     "metadata": {
      "needs_background": "light"
     },
     "output_type": "display_data"
    }
   ],
   "source": [
    "# age & pop\n",
    "Xplot = df['age']\n",
    "fig = plt.figure(figsize=(8, 4))\n",
    "ax = fig.add_axes([0,0,1,1])\n",
    "z = np.polyfit(Xplot, df['pop'], 2)\n",
    "p = np.poly1d(z)\n",
    "ax.scatter(Xplot, df['pop'])\n",
    "ax.plot(Xplot, p(Xplot))"
   ]
  },
  {
   "cell_type": "markdown",
   "id": "86a5db50",
   "metadata": {},
   "source": [
    "Base on the correlation coefficients and plots, we can see that \"dur\" and \"age\" may have non-linear relationship. The other attribute, including 'acous', 'dur', 'dB', 'nrgy', 'dnce', 'spch' may have the potential linear relationships with \"pop\"."
   ]
  },
  {
   "cell_type": "markdown",
   "id": "1828a50d",
   "metadata": {},
   "source": [
    "# 4. Preparing data"
   ]
  },
  {
   "cell_type": "markdown",
   "id": "81d22d61",
   "metadata": {},
   "source": [
    "# 4.1. Clean data\n",
    "\n",
    "## a) Clean repeated data\n",
    "In the part of investigating 'title' column in section 2, we can see two songs repeated, which are 'Take Good Care Of My Baby - 1990 Remastered' and 'Please Mr. Postman'. I extract them for more detail. "
   ]
  },
  {
   "cell_type": "code",
   "execution_count": 20,
   "id": "c415a61a",
   "metadata": {},
   "outputs": [
    {
     "data": {
      "text/html": [
       "<div>\n",
       "<style scoped>\n",
       "    .dataframe tbody tr th:only-of-type {\n",
       "        vertical-align: middle;\n",
       "    }\n",
       "\n",
       "    .dataframe tbody tr th {\n",
       "        vertical-align: top;\n",
       "    }\n",
       "\n",
       "    .dataframe thead th {\n",
       "        text-align: right;\n",
       "    }\n",
       "</style>\n",
       "<table border=\"1\" class=\"dataframe\">\n",
       "  <thead>\n",
       "    <tr style=\"text-align: right;\">\n",
       "      <th></th>\n",
       "      <th>Id</th>\n",
       "      <th>title</th>\n",
       "      <th>artist</th>\n",
       "      <th>top genre</th>\n",
       "      <th>bpm</th>\n",
       "      <th>nrgy</th>\n",
       "      <th>dnce</th>\n",
       "      <th>dB</th>\n",
       "      <th>live</th>\n",
       "      <th>val</th>\n",
       "      <th>dur</th>\n",
       "      <th>acous</th>\n",
       "      <th>spch</th>\n",
       "      <th>pop</th>\n",
       "      <th>age</th>\n",
       "    </tr>\n",
       "  </thead>\n",
       "  <tbody>\n",
       "    <tr>\n",
       "      <th>42</th>\n",
       "      <td>43</td>\n",
       "      <td>Take Good Care Of My Baby - 1990 Remastered</td>\n",
       "      <td>Bobby Vee</td>\n",
       "      <td>adult standards</td>\n",
       "      <td>82</td>\n",
       "      <td>43</td>\n",
       "      <td>49</td>\n",
       "      <td>-12</td>\n",
       "      <td>12</td>\n",
       "      <td>66</td>\n",
       "      <td>151</td>\n",
       "      <td>70</td>\n",
       "      <td>6</td>\n",
       "      <td>60</td>\n",
       "      <td>11</td>\n",
       "    </tr>\n",
       "    <tr>\n",
       "      <th>46</th>\n",
       "      <td>47</td>\n",
       "      <td>Take Good Care Of My Baby - 1990 Remastered</td>\n",
       "      <td>Bobby Vee</td>\n",
       "      <td>adult standards</td>\n",
       "      <td>82</td>\n",
       "      <td>43</td>\n",
       "      <td>49</td>\n",
       "      <td>-12</td>\n",
       "      <td>12</td>\n",
       "      <td>66</td>\n",
       "      <td>151</td>\n",
       "      <td>70</td>\n",
       "      <td>6</td>\n",
       "      <td>60</td>\n",
       "      <td>11</td>\n",
       "    </tr>\n",
       "  </tbody>\n",
       "</table>\n",
       "</div>"
      ],
      "text/plain": [
       "    Id                                        title     artist  \\\n",
       "42  43  Take Good Care Of My Baby - 1990 Remastered  Bobby Vee   \n",
       "46  47  Take Good Care Of My Baby - 1990 Remastered  Bobby Vee   \n",
       "\n",
       "          top genre  bpm  nrgy  dnce  dB  live  val  dur  acous  spch  pop  \\\n",
       "42  adult standards   82    43    49 -12    12   66  151     70     6   60   \n",
       "46  adult standards   82    43    49 -12    12   66  151     70     6   60   \n",
       "\n",
       "    age  \n",
       "42   11  \n",
       "46   11  "
      ]
     },
     "execution_count": 20,
     "metadata": {},
     "output_type": "execute_result"
    }
   ],
   "source": [
    "df[df[\"title\"]=='Take Good Care Of My Baby - 1990 Remastered']"
   ]
  },
  {
   "cell_type": "code",
   "execution_count": 21,
   "id": "c966df4b",
   "metadata": {
    "scrolled": true
   },
   "outputs": [
    {
     "data": {
      "text/html": [
       "<div>\n",
       "<style scoped>\n",
       "    .dataframe tbody tr th:only-of-type {\n",
       "        vertical-align: middle;\n",
       "    }\n",
       "\n",
       "    .dataframe tbody tr th {\n",
       "        vertical-align: top;\n",
       "    }\n",
       "\n",
       "    .dataframe thead th {\n",
       "        text-align: right;\n",
       "    }\n",
       "</style>\n",
       "<table border=\"1\" class=\"dataframe\">\n",
       "  <thead>\n",
       "    <tr style=\"text-align: right;\">\n",
       "      <th></th>\n",
       "      <th>Id</th>\n",
       "      <th>title</th>\n",
       "      <th>artist</th>\n",
       "      <th>top genre</th>\n",
       "      <th>bpm</th>\n",
       "      <th>nrgy</th>\n",
       "      <th>dnce</th>\n",
       "      <th>dB</th>\n",
       "      <th>live</th>\n",
       "      <th>val</th>\n",
       "      <th>dur</th>\n",
       "      <th>acous</th>\n",
       "      <th>spch</th>\n",
       "      <th>pop</th>\n",
       "      <th>age</th>\n",
       "    </tr>\n",
       "  </thead>\n",
       "  <tbody>\n",
       "    <tr>\n",
       "      <th>177</th>\n",
       "      <td>178</td>\n",
       "      <td>Please Mr. Postman</td>\n",
       "      <td>Carpenters</td>\n",
       "      <td>adult standards</td>\n",
       "      <td>133</td>\n",
       "      <td>55</td>\n",
       "      <td>66</td>\n",
       "      <td>-12</td>\n",
       "      <td>24</td>\n",
       "      <td>96</td>\n",
       "      <td>173</td>\n",
       "      <td>14</td>\n",
       "      <td>3</td>\n",
       "      <td>62</td>\n",
       "      <td>47</td>\n",
       "    </tr>\n",
       "    <tr>\n",
       "      <th>280</th>\n",
       "      <td>281</td>\n",
       "      <td>Please Mr. Postman</td>\n",
       "      <td>The Marvelettes</td>\n",
       "      <td>brill building pop</td>\n",
       "      <td>122</td>\n",
       "      <td>78</td>\n",
       "      <td>79</td>\n",
       "      <td>-5</td>\n",
       "      <td>18</td>\n",
       "      <td>97</td>\n",
       "      <td>148</td>\n",
       "      <td>73</td>\n",
       "      <td>3</td>\n",
       "      <td>68</td>\n",
       "      <td>61</td>\n",
       "    </tr>\n",
       "  </tbody>\n",
       "</table>\n",
       "</div>"
      ],
      "text/plain": [
       "      Id               title           artist           top genre  bpm  nrgy  \\\n",
       "177  178  Please Mr. Postman       Carpenters     adult standards  133    55   \n",
       "280  281  Please Mr. Postman  The Marvelettes  brill building pop  122    78   \n",
       "\n",
       "     dnce  dB  live  val  dur  acous  spch  pop  age  \n",
       "177    66 -12    24   96  173     14     3   62   47  \n",
       "280    79  -5    18   97  148     73     3   68   61  "
      ]
     },
     "execution_count": 21,
     "metadata": {},
     "output_type": "execute_result"
    }
   ],
   "source": [
    "df[df[\"title\"]=='Please Mr. Postman']"
   ]
  },
  {
   "cell_type": "markdown",
   "id": "f8319795",
   "metadata": {},
   "source": [
    "Since the data in rows 42 and 46 are identical, I will remove one of them. On the other hand, except from the song title, all other features in rows 177 and 280 are different. Therefore, we can consider them as two different instances and I will keep both of them."
   ]
  },
  {
   "cell_type": "code",
   "execution_count": 22,
   "id": "0cd3dfe9",
   "metadata": {
    "scrolled": true
   },
   "outputs": [
    {
     "data": {
      "text/html": [
       "<div>\n",
       "<style scoped>\n",
       "    .dataframe tbody tr th:only-of-type {\n",
       "        vertical-align: middle;\n",
       "    }\n",
       "\n",
       "    .dataframe tbody tr th {\n",
       "        vertical-align: top;\n",
       "    }\n",
       "\n",
       "    .dataframe thead th {\n",
       "        text-align: right;\n",
       "    }\n",
       "</style>\n",
       "<table border=\"1\" class=\"dataframe\">\n",
       "  <thead>\n",
       "    <tr style=\"text-align: right;\">\n",
       "      <th></th>\n",
       "      <th>Id</th>\n",
       "      <th>title</th>\n",
       "      <th>artist</th>\n",
       "      <th>top genre</th>\n",
       "      <th>bpm</th>\n",
       "      <th>nrgy</th>\n",
       "      <th>dnce</th>\n",
       "      <th>dB</th>\n",
       "      <th>live</th>\n",
       "      <th>val</th>\n",
       "      <th>dur</th>\n",
       "      <th>acous</th>\n",
       "      <th>spch</th>\n",
       "      <th>pop</th>\n",
       "      <th>age</th>\n",
       "    </tr>\n",
       "  </thead>\n",
       "  <tbody>\n",
       "    <tr>\n",
       "      <th>46</th>\n",
       "      <td>47</td>\n",
       "      <td>Take Good Care Of My Baby - 1990 Remastered</td>\n",
       "      <td>Bobby Vee</td>\n",
       "      <td>adult standards</td>\n",
       "      <td>82</td>\n",
       "      <td>43</td>\n",
       "      <td>49</td>\n",
       "      <td>-12</td>\n",
       "      <td>12</td>\n",
       "      <td>66</td>\n",
       "      <td>151</td>\n",
       "      <td>70</td>\n",
       "      <td>6</td>\n",
       "      <td>60</td>\n",
       "      <td>11</td>\n",
       "    </tr>\n",
       "  </tbody>\n",
       "</table>\n",
       "</div>"
      ],
      "text/plain": [
       "    Id                                        title     artist  \\\n",
       "46  47  Take Good Care Of My Baby - 1990 Remastered  Bobby Vee   \n",
       "\n",
       "          top genre  bpm  nrgy  dnce  dB  live  val  dur  acous  spch  pop  \\\n",
       "46  adult standards   82    43    49 -12    12   66  151     70     6   60   \n",
       "\n",
       "    age  \n",
       "46   11  "
      ]
     },
     "execution_count": 22,
     "metadata": {},
     "output_type": "execute_result"
    }
   ],
   "source": [
    "df = df.drop(42)\n",
    "df[df[\"title\"]=='Take Good Care Of My Baby - 1990 Remastered']"
   ]
  },
  {
   "cell_type": "markdown",
   "id": "0aa368c8",
   "metadata": {},
   "source": [
    "### b) Drop un-used columns\n",
    "\n",
    "The 'Id', 'title', 'artist', 'top genre' columns will not be used. Therefore, they are excluded from the dataset as follows:"
   ]
  },
  {
   "cell_type": "code",
   "execution_count": 23,
   "id": "cd1c78da",
   "metadata": {},
   "outputs": [
    {
     "data": {
      "text/html": [
       "<div>\n",
       "<style scoped>\n",
       "    .dataframe tbody tr th:only-of-type {\n",
       "        vertical-align: middle;\n",
       "    }\n",
       "\n",
       "    .dataframe tbody tr th {\n",
       "        vertical-align: top;\n",
       "    }\n",
       "\n",
       "    .dataframe thead th {\n",
       "        text-align: right;\n",
       "    }\n",
       "</style>\n",
       "<table border=\"1\" class=\"dataframe\">\n",
       "  <thead>\n",
       "    <tr style=\"text-align: right;\">\n",
       "      <th></th>\n",
       "      <th>bpm</th>\n",
       "      <th>nrgy</th>\n",
       "      <th>dnce</th>\n",
       "      <th>dB</th>\n",
       "      <th>live</th>\n",
       "      <th>val</th>\n",
       "      <th>dur</th>\n",
       "      <th>acous</th>\n",
       "      <th>spch</th>\n",
       "      <th>pop</th>\n",
       "      <th>age</th>\n",
       "    </tr>\n",
       "  </thead>\n",
       "  <tbody>\n",
       "    <tr>\n",
       "      <th>0</th>\n",
       "      <td>107</td>\n",
       "      <td>31</td>\n",
       "      <td>45</td>\n",
       "      <td>-8</td>\n",
       "      <td>13</td>\n",
       "      <td>28</td>\n",
       "      <td>150</td>\n",
       "      <td>75</td>\n",
       "      <td>3</td>\n",
       "      <td>44</td>\n",
       "      <td>26</td>\n",
       "    </tr>\n",
       "    <tr>\n",
       "      <th>1</th>\n",
       "      <td>114</td>\n",
       "      <td>44</td>\n",
       "      <td>53</td>\n",
       "      <td>-8</td>\n",
       "      <td>13</td>\n",
       "      <td>47</td>\n",
       "      <td>139</td>\n",
       "      <td>49</td>\n",
       "      <td>3</td>\n",
       "      <td>37</td>\n",
       "      <td>11</td>\n",
       "    </tr>\n",
       "    <tr>\n",
       "      <th>2</th>\n",
       "      <td>105</td>\n",
       "      <td>36</td>\n",
       "      <td>63</td>\n",
       "      <td>-9</td>\n",
       "      <td>13</td>\n",
       "      <td>67</td>\n",
       "      <td>245</td>\n",
       "      <td>11</td>\n",
       "      <td>3</td>\n",
       "      <td>77</td>\n",
       "      <td>43</td>\n",
       "    </tr>\n",
       "  </tbody>\n",
       "</table>\n",
       "</div>"
      ],
      "text/plain": [
       "   bpm  nrgy  dnce  dB  live  val  dur  acous  spch  pop  age\n",
       "0  107    31    45  -8    13   28  150     75     3   44   26\n",
       "1  114    44    53  -8    13   47  139     49     3   37   11\n",
       "2  105    36    63  -9    13   67  245     11     3   77   43"
      ]
     },
     "execution_count": 23,
     "metadata": {},
     "output_type": "execute_result"
    }
   ],
   "source": [
    "df = df.drop(['Id', 'title', 'artist', 'top genre'], axis=1)\n",
    "df.head(3)"
   ]
  },
  {
   "cell_type": "markdown",
   "id": "19a20406",
   "metadata": {},
   "source": [
    "### c) Remove outliers manually\n",
    "\n",
    "Firstly, I plot box plots to observe potential outliers. And then I remove outliers."
   ]
  },
  {
   "cell_type": "code",
   "execution_count": 24,
   "id": "8b15a6f0",
   "metadata": {
    "scrolled": true
   },
   "outputs": [
    {
     "data": {
      "image/png": "[encoded data removed]",
      "text/plain": [
       "<Figure size 1152x432 with 12 Axes>"
      ]
     },
     "metadata": {
      "needs_background": "light"
     },
     "output_type": "display_data"
    }
   ],
   "source": [
    "df.plot(kind='box',subplots=True, layout=(2,6), figsize=(16,6))\n",
    "plt.show()"
   ]
  },
  {
   "cell_type": "markdown",
   "id": "9f346d5b",
   "metadata": {},
   "source": [
    "I remove outliers founded from previous step."
   ]
  },
  {
   "cell_type": "code",
   "execution_count": 25,
   "id": "341d2c2b",
   "metadata": {},
   "outputs": [
    {
     "data": {
      "text/html": [
       "<div>\n",
       "<style scoped>\n",
       "    .dataframe tbody tr th:only-of-type {\n",
       "        vertical-align: middle;\n",
       "    }\n",
       "\n",
       "    .dataframe tbody tr th {\n",
       "        vertical-align: top;\n",
       "    }\n",
       "\n",
       "    .dataframe thead th {\n",
       "        text-align: right;\n",
       "    }\n",
       "</style>\n",
       "<table border=\"1\" class=\"dataframe\">\n",
       "  <thead>\n",
       "    <tr style=\"text-align: right;\">\n",
       "      <th></th>\n",
       "      <th>bpm</th>\n",
       "      <th>nrgy</th>\n",
       "      <th>dnce</th>\n",
       "      <th>dB</th>\n",
       "      <th>live</th>\n",
       "      <th>val</th>\n",
       "      <th>dur</th>\n",
       "      <th>acous</th>\n",
       "      <th>spch</th>\n",
       "      <th>pop</th>\n",
       "      <th>age</th>\n",
       "    </tr>\n",
       "  </thead>\n",
       "  <tbody>\n",
       "    <tr>\n",
       "      <th>0</th>\n",
       "      <td>107</td>\n",
       "      <td>31</td>\n",
       "      <td>45</td>\n",
       "      <td>-8</td>\n",
       "      <td>13</td>\n",
       "      <td>28</td>\n",
       "      <td>150</td>\n",
       "      <td>75</td>\n",
       "      <td>3</td>\n",
       "      <td>44</td>\n",
       "      <td>26</td>\n",
       "    </tr>\n",
       "    <tr>\n",
       "      <th>1</th>\n",
       "      <td>114</td>\n",
       "      <td>44</td>\n",
       "      <td>53</td>\n",
       "      <td>-8</td>\n",
       "      <td>13</td>\n",
       "      <td>47</td>\n",
       "      <td>139</td>\n",
       "      <td>49</td>\n",
       "      <td>3</td>\n",
       "      <td>37</td>\n",
       "      <td>11</td>\n",
       "    </tr>\n",
       "    <tr>\n",
       "      <th>2</th>\n",
       "      <td>105</td>\n",
       "      <td>36</td>\n",
       "      <td>63</td>\n",
       "      <td>-9</td>\n",
       "      <td>13</td>\n",
       "      <td>67</td>\n",
       "      <td>245</td>\n",
       "      <td>11</td>\n",
       "      <td>3</td>\n",
       "      <td>77</td>\n",
       "      <td>43</td>\n",
       "    </tr>\n",
       "  </tbody>\n",
       "</table>\n",
       "</div>"
      ],
      "text/plain": [
       "   bpm  nrgy  dnce  dB  live  val  dur  acous  spch  pop  age\n",
       "0  107    31    45  -8    13   28  150     75     3   44   26\n",
       "1  114    44    53  -8    13   47  139     49     3   37   11\n",
       "2  105    36    63  -9    13   67  245     11     3   77   43"
      ]
     },
     "execution_count": 25,
     "metadata": {},
     "output_type": "execute_result"
    }
   ],
   "source": [
    "df = df[df['bpm']< 185]\n",
    "df = df[df['dur']< 380]\n",
    "df = df[(df['spch']< 11) & (df['spch']>= 2.5)]\n",
    "df = df[df['dB'] > -18]\n",
    "df = df[df['live'] < 40]\n",
    "\n",
    "df.head(3)"
   ]
  },
  {
   "cell_type": "markdown",
   "id": "5e1999de",
   "metadata": {},
   "source": [
    "### d) Remove outliers by using DBSCAN clustering\n",
    "\n",
    "In addition to removing manually base on the box plot in the previous step, I use clustering technique to detect anormal data points which can be considered as outliers which need to be removed. As we can see in the plots in Section 3, the data distributions are not really spherical. Therefore, DBSCAN clustering is chosen. The value of parameter \"eps\" in each clustering will be adjusted according to the density of the scatter plots observed in Section 3."
   ]
  },
  {
   "cell_type": "code",
   "execution_count": 26,
   "id": "e9fe5b7a",
   "metadata": {},
   "outputs": [],
   "source": [
    "from sklearn.cluster import DBSCAN\n",
    "\n",
    "## clustering for a sub-dataframe with only two columns: 'pop' and 'acous'\n",
    "dbscan = DBSCAN(eps=9, min_samples=5)\n",
    "dbscan.fit(df[['acous', 'pop']])\n",
    "# dbscan.labels_\n",
    "df = df.loc[dbscan.labels_!=-1]\n",
    "\n",
    "## clustering for a sub-dataframe with only two columns: 'pop' and 'dur'\n",
    "dbscan = DBSCAN(eps=15, min_samples=5)\n",
    "dbscan.fit(df[['dur', 'pop']])\n",
    "# dbscan.labels_\n",
    "df = df.loc[dbscan.labels_!=-1]\n",
    "\n",
    "## clustering for a sub-dataframe with only two columns: 'pop' and 'nrgy'\n",
    "dbscan = DBSCAN(eps=10, min_samples=5)\n",
    "dbscan.fit(df[['nrgy', 'pop']])\n",
    "# dbscan.labels_\n",
    "df = df.loc[dbscan.labels_!=-1]\n",
    "\n",
    "## clustering for a sub-dataframe with only two columns: 'pop' and 'dnce'\n",
    "dbscan = DBSCAN(eps=10, min_samples=5)\n",
    "dbscan.fit(df[['dnce', 'pop']])\n",
    "# dbscan.labels_\n",
    "df = df.loc[dbscan.labels_!=-1]\n",
    "\n",
    "## clustering for a sub-dataframe with only two columns: 'pop' and 'age'\n",
    "dbscan = DBSCAN(eps=10, min_samples=5)\n",
    "dbscan.fit(df[['age', 'pop']])\n",
    "# dbscan.labels_\n",
    "df = df.loc[dbscan.labels_!=-1]\n"
   ]
  },
  {
   "cell_type": "markdown",
   "id": "12ada178",
   "metadata": {},
   "source": [
    "By removing outliers, the coefficients in the correlation matrix below increased compared to those in the correlation matrix before cleaning data."
   ]
  },
  {
   "cell_type": "code",
   "execution_count": 27,
   "id": "badfb175",
   "metadata": {},
   "outputs": [
    {
     "data": {
      "text/plain": [
       "pop      1.000000\n",
       "dur      0.527409\n",
       "nrgy     0.370010\n",
       "dB       0.337413\n",
       "dnce     0.300716\n",
       "spch     0.136127\n",
       "bpm      0.110435\n",
       "age      0.103531\n",
       "val      0.014382\n",
       "live    -0.151479\n",
       "acous   -0.505619\n",
       "Name: pop, dtype: float64"
      ]
     },
     "execution_count": 27,
     "metadata": {},
     "output_type": "execute_result"
    }
   ],
   "source": [
    "corr_matrix = df.corr()\n",
    "corr_matrix[\"pop\"].sort_values(ascending=False)"
   ]
  },
  {
   "cell_type": "markdown",
   "id": "c8c72a96",
   "metadata": {},
   "source": [
    "## 4.2. Adding features: age^2 and dur^2\n",
    "\n",
    "Since the potential quadratic relations between 'pop' versus 'age' and 'dur' are observed in the previous section, two additional columns for age^2 and dur^2 will be added into the dataset as follows:"
   ]
  },
  {
   "cell_type": "code",
   "execution_count": 28,
   "id": "3eab35d3",
   "metadata": {},
   "outputs": [
    {
     "data": {
      "text/html": [
       "<div>\n",
       "<style scoped>\n",
       "    .dataframe tbody tr th:only-of-type {\n",
       "        vertical-align: middle;\n",
       "    }\n",
       "\n",
       "    .dataframe tbody tr th {\n",
       "        vertical-align: top;\n",
       "    }\n",
       "\n",
       "    .dataframe thead th {\n",
       "        text-align: right;\n",
       "    }\n",
       "</style>\n",
       "<table border=\"1\" class=\"dataframe\">\n",
       "  <thead>\n",
       "    <tr style=\"text-align: right;\">\n",
       "      <th></th>\n",
       "      <th>bpm</th>\n",
       "      <th>nrgy</th>\n",
       "      <th>dnce</th>\n",
       "      <th>dB</th>\n",
       "      <th>live</th>\n",
       "      <th>val</th>\n",
       "      <th>dur</th>\n",
       "      <th>acous</th>\n",
       "      <th>spch</th>\n",
       "      <th>pop</th>\n",
       "      <th>age</th>\n",
       "      <th>age2</th>\n",
       "      <th>dur2</th>\n",
       "    </tr>\n",
       "  </thead>\n",
       "  <tbody>\n",
       "    <tr>\n",
       "      <th>0</th>\n",
       "      <td>107</td>\n",
       "      <td>31</td>\n",
       "      <td>45</td>\n",
       "      <td>-8</td>\n",
       "      <td>13</td>\n",
       "      <td>28</td>\n",
       "      <td>150</td>\n",
       "      <td>75</td>\n",
       "      <td>3</td>\n",
       "      <td>44</td>\n",
       "      <td>26</td>\n",
       "      <td>676</td>\n",
       "      <td>22500</td>\n",
       "    </tr>\n",
       "    <tr>\n",
       "      <th>1</th>\n",
       "      <td>114</td>\n",
       "      <td>44</td>\n",
       "      <td>53</td>\n",
       "      <td>-8</td>\n",
       "      <td>13</td>\n",
       "      <td>47</td>\n",
       "      <td>139</td>\n",
       "      <td>49</td>\n",
       "      <td>3</td>\n",
       "      <td>37</td>\n",
       "      <td>11</td>\n",
       "      <td>121</td>\n",
       "      <td>19321</td>\n",
       "    </tr>\n",
       "    <tr>\n",
       "      <th>2</th>\n",
       "      <td>105</td>\n",
       "      <td>36</td>\n",
       "      <td>63</td>\n",
       "      <td>-9</td>\n",
       "      <td>13</td>\n",
       "      <td>67</td>\n",
       "      <td>245</td>\n",
       "      <td>11</td>\n",
       "      <td>3</td>\n",
       "      <td>77</td>\n",
       "      <td>43</td>\n",
       "      <td>1849</td>\n",
       "      <td>60025</td>\n",
       "    </tr>\n",
       "  </tbody>\n",
       "</table>\n",
       "</div>"
      ],
      "text/plain": [
       "   bpm  nrgy  dnce  dB  live  val  dur  acous  spch  pop  age  age2   dur2\n",
       "0  107    31    45  -8    13   28  150     75     3   44   26   676  22500\n",
       "1  114    44    53  -8    13   47  139     49     3   37   11   121  19321\n",
       "2  105    36    63  -9    13   67  245     11     3   77   43  1849  60025"
      ]
     },
     "execution_count": 28,
     "metadata": {},
     "output_type": "execute_result"
    }
   ],
   "source": [
    "df['age2']=df['age']**2\n",
    "df['dur2']=df['dur']**2\n",
    "df.head(3)"
   ]
  },
  {
   "cell_type": "markdown",
   "id": "43c26488",
   "metadata": {},
   "source": [
    "## 4.3. Feature scaling\n",
    "\n",
    "Based on the correlation scores shown in Section 3, I decided to exclude 'val' feature from our process of building models. A list of features that will be included in the training process are defined in 'features' variable as below. In fact, this is the best list of features that I found after many trial combinations of features."
   ]
  },
  {
   "cell_type": "code",
   "execution_count": 29,
   "id": "7e7b7782",
   "metadata": {},
   "outputs": [],
   "source": [
    "features = ['dur', 'dur2', 'nrgy', 'dB', 'dnce', 'spch', 'bpm', 'age','age2', 'live', 'acous']\n",
    "from sklearn.preprocessing import StandardScaler\n",
    "autoscaler = StandardScaler()\n",
    "y = df['pop']\n",
    "\n",
    "X_train = autoscaler.fit_transform(df[features])"
   ]
  },
  {
   "cell_type": "markdown",
   "id": "c8ef4b5e",
   "metadata": {},
   "source": [
    "# 5. Training models"
   ]
  },
  {
   "cell_type": "markdown",
   "id": "b24a6ef6",
   "metadata": {},
   "source": [
    "Setup"
   ]
  },
  {
   "cell_type": "code",
   "execution_count": 30,
   "id": "0a7aca2f",
   "metadata": {},
   "outputs": [],
   "source": [
    "from sklearn.linear_model import LinearRegression\n",
    "from sklearn.svm import LinearSVR\n",
    "from sklearn.tree import DecisionTreeRegressor\n",
    "from sklearn.ensemble import RandomForestRegressor\n",
    "\n",
    "from sklearn.model_selection import GridSearchCV\n",
    "from sklearn.model_selection import cross_val_score\n",
    "\n",
    "from sklearn.model_selection import train_test_split\n",
    "from sklearn.metrics import mean_squared_error\n",
    "\n",
    "## AdaBoost\n",
    "from sklearn.ensemble import AdaBoostRegressor\n",
    "## Gradient Boosting\n",
    "# from sklearn.ensemble import GradientBoostingRegressor"
   ]
  },
  {
   "cell_type": "markdown",
   "id": "99d7f108",
   "metadata": {},
   "source": [
    "## 5.1. Train and Fine-Tune Individual Model"
   ]
  },
  {
   "cell_type": "markdown",
   "id": "4f779393",
   "metadata": {},
   "source": [
    "I try four different regression models including: LinearRegression, LinearSVR, DecisionTreeRegressor and RandomForestRegressor. The best model will be determined by using following steps:\n",
    "\n",
    " + Step 1: Fine-Tune individual models using GridSearchCV to obtain the best parameters for individual models\n",
    "    \n",
    " + Step 2: Use Ensemble Learning including Soft voting, Ada boosting to improve model scores\n",
    "\n",
    " + Step 3: Determine the best (final) model based on RMSE score when predict test set\n",
    "\n",
    "During training, the cross validation technique with cv=5 is used to split data into 5 folds. The best paramters will be used for training the optimised model. \n",
    " "
   ]
  },
  {
   "cell_type": "markdown",
   "id": "8264e388",
   "metadata": {},
   "source": [
    "### 5.1.1. Linear Regression"
   ]
  },
  {
   "cell_type": "code",
   "execution_count": 31,
   "id": "a4841df0",
   "metadata": {},
   "outputs": [
    {
     "name": "stdout",
     "output_type": "stream",
     "text": [
      "9.682255255045373\n"
     ]
    },
    {
     "data": {
      "text/plain": [
       "array([ 22.43062154, -17.92502001,  -1.74345284,   3.778827  ,\n",
       "         1.47750619,   1.14170789,  -0.25003311,   9.71767044,\n",
       "        -7.27047719,  -0.93430575,  -2.68407807])"
      ]
     },
     "execution_count": 31,
     "metadata": {},
     "output_type": "execute_result"
    }
   ],
   "source": [
    "lin_reg = LinearRegression()\n",
    "\n",
    "scores = cross_val_score(lin_reg, X_train, y,scoring=\"neg_mean_squared_error\", cv=5)\n",
    "lin_reg_rmse_scores = np.sqrt(-scores)\n",
    "print(lin_reg_rmse_scores.mean())\n",
    "\n",
    "lin_reg.fit(X_train, y)\n",
    "lin_reg.coef_"
   ]
  },
  {
   "cell_type": "markdown",
   "id": "011ab454",
   "metadata": {},
   "source": [
    "### 5.1.2. Fine-Tune Support Vector Regression Model"
   ]
  },
  {
   "cell_type": "markdown",
   "id": "3b885cac",
   "metadata": {},
   "source": [
    "The tolerance 'tol' of the LinearSVR model is set equal to 10e-5, and a gridsearch for 'loss' parameter is conducted. "
   ]
  },
  {
   "cell_type": "code",
   "execution_count": 32,
   "id": "3108d47c",
   "metadata": {},
   "outputs": [
    {
     "name": "stdout",
     "output_type": "stream",
     "text": [
      "9.69917059898428\n"
     ]
    },
    {
     "data": {
      "text/plain": [
       "LinearSVR(loss='squared_epsilon_insensitive', tol=1e-05)"
      ]
     },
     "execution_count": 32,
     "metadata": {},
     "output_type": "execute_result"
    }
   ],
   "source": [
    "svm_reg = LinearSVR(tol=1e-5)\n",
    "\n",
    "param_grid = {'loss': ['epsilon_insensitive', 'squared_epsilon_insensitive']}\n",
    "\n",
    "grid_search = GridSearchCV(svm_reg, param_grid, cv=5, scoring='neg_mean_squared_error',return_train_score=True)\n",
    "grid_search.fit(X_train, y)\n",
    "best_para = grid_search.best_params_\n",
    "\n",
    "## optimised SVR model:\n",
    "svm_reg = LinearSVR(tol=1e-5, loss = best_para['loss'])\n",
    "\n",
    "scores = cross_val_score(svm_reg, X_train, y, scoring=\"neg_mean_squared_error\", cv=5)\n",
    "svm_reg_rmse_scores = np.sqrt(-scores)\n",
    "print(svm_reg_rmse_scores.mean())\n",
    "\n",
    "svm_reg.fit(X_train, y)"
   ]
  },
  {
   "cell_type": "markdown",
   "id": "57a01a20",
   "metadata": {},
   "source": [
    "### 5.1.3. Fine-Tune Decision Tree Regression Model"
   ]
  },
  {
   "cell_type": "markdown",
   "id": "d6558b04",
   "metadata": {},
   "source": [
    "Two parameters: 'max_features' and 'max_depth' are used for the gridsearch."
   ]
  },
  {
   "cell_type": "code",
   "execution_count": 33,
   "id": "406b5c74",
   "metadata": {},
   "outputs": [
    {
     "name": "stdout",
     "output_type": "stream",
     "text": [
      "11.596116655657926\n"
     ]
    },
    {
     "data": {
      "text/plain": [
       "DecisionTreeRegressor(max_depth=2, max_features='sqrt')"
      ]
     },
     "execution_count": 33,
     "metadata": {},
     "output_type": "execute_result"
    }
   ],
   "source": [
    "tree_reg = DecisionTreeRegressor()\n",
    "\n",
    "param_grid = {'max_features': ['auto', 'sqrt', 'log2'], 'max_depth': [2, 4, 6, 8, 10,12,14,16,18,20]}\n",
    "\n",
    "grid_search = GridSearchCV(tree_reg, param_grid, cv=5, scoring='neg_mean_squared_error',return_train_score=True)\n",
    "grid_search.fit(X_train, y)\n",
    "best_para = grid_search.best_params_\n",
    "\n",
    "\n",
    "## optimised DecisionTreeRegressor model:\n",
    "tree_reg = DecisionTreeRegressor(max_depth=best_para['max_depth'], max_features=best_para['max_features'])\n",
    "\n",
    "scores = cross_val_score(tree_reg, X_train, y, scoring=\"neg_mean_squared_error\", cv=5)\n",
    "tree_reg_rmse_scores = np.sqrt(-scores)\n",
    "print(tree_reg_rmse_scores.mean())\n",
    "\n",
    "tree_reg.fit(X_train, y)"
   ]
  },
  {
   "cell_type": "markdown",
   "id": "0b14dfbd",
   "metadata": {},
   "source": [
    "### 5.1.4. Fine-Tune Random Forest Model"
   ]
  },
  {
   "cell_type": "markdown",
   "id": "32383d94",
   "metadata": {},
   "source": [
    "Three parameters: 'n_estimators', 'max_features' and 'bootstrap' are used for the gridsearch.\n",
    "\n",
    "Compared to the other regression models, the Random Forest model requires a significantly longer time to train. However, the Random Forest model is generally give very good score, slightly better than the individual models above when make prediction for test set."
   ]
  },
  {
   "cell_type": "code",
   "execution_count": 34,
   "id": "e046280f",
   "metadata": {},
   "outputs": [
    {
     "name": "stdout",
     "output_type": "stream",
     "text": [
      "9.683422218095469\n"
     ]
    },
    {
     "data": {
      "text/plain": [
       "RandomForestRegressor(max_features='log2', n_estimators=50)"
      ]
     },
     "execution_count": 34,
     "metadata": {},
     "output_type": "execute_result"
    }
   ],
   "source": [
    "forest_reg = RandomForestRegressor()\n",
    "\n",
    "param_grid = {'n_estimators': [10, 20, 30, 40, 50, 60, 70, 80, 90, 100], 'max_features': ['auto', 'sqrt', 'log2'], \n",
    "              'bootstrap': [True, False]}\n",
    "\n",
    "grid_search = GridSearchCV(forest_reg, param_grid, cv=5, scoring='neg_mean_squared_error',return_train_score=True)\n",
    "grid_search.fit(X_train, y)\n",
    "best_para = grid_search.best_params_\n",
    "\n",
    "## Optimised Random Forest model:\n",
    "forest_reg = RandomForestRegressor(n_estimators=best_para['n_estimators'], bootstrap=best_para['bootstrap'], \n",
    "                                   max_features=best_para['max_features'])\n",
    "\n",
    "scores = cross_val_score(forest_reg, X_train, y,scoring=\"neg_mean_squared_error\", cv=5)\n",
    "forest_reg_rmse_scores = np.sqrt(-scores)\n",
    "print(forest_reg_rmse_scores.mean())\n",
    "\n",
    "forest_reg.fit(X_train, y)"
   ]
  },
  {
   "cell_type": "markdown",
   "id": "c0e22594",
   "metadata": {},
   "source": [
    "## 5.2. Ensemble Learning"
   ]
  },
  {
   "cell_type": "markdown",
   "id": "87d5fc8d",
   "metadata": {},
   "source": [
    "As the next step, I will use soft voting and Ada boosting methods to improve the models' performances. "
   ]
  },
  {
   "cell_type": "markdown",
   "id": "d0eaa661",
   "metadata": {},
   "source": [
    "### 5.2.1. Soft voting for the best individual models"
   ]
  },
  {
   "cell_type": "markdown",
   "id": "e9928925",
   "metadata": {},
   "source": [
    "By trying different model combinations, I found that soft-voting model of three individual models including 'lin_reg', 'forest_reg' and 'svm_reg' give the higher score than the soft-voting model of all four idividual models. It is because the Decision Tree Regression Model has very low score compared to the others. Therefore, as shown in section below, I only conduct soft voting for three models:"
   ]
  },
  {
   "cell_type": "code",
   "execution_count": 35,
   "id": "0a124568",
   "metadata": {
    "scrolled": true
   },
   "outputs": [
    {
     "name": "stdout",
     "output_type": "stream",
     "text": [
      "9.447408980974723\n"
     ]
    },
    {
     "data": {
      "text/plain": [
       "VotingRegressor(estimators=[('lr', LinearRegression()),\n",
       "                            ('forest',\n",
       "                             RandomForestRegressor(max_features='log2',\n",
       "                                                   n_estimators=50)),\n",
       "                            ('svm',\n",
       "                             LinearSVR(loss='squared_epsilon_insensitive',\n",
       "                                       tol=1e-05))])"
      ]
     },
     "execution_count": 35,
     "metadata": {},
     "output_type": "execute_result"
    }
   ],
   "source": [
    "from sklearn.ensemble import VotingRegressor\n",
    "\n",
    "soft_voting = VotingRegressor(estimators=[('lr', lin_reg), ('forest', forest_reg), ('svm', svm_reg)])\n",
    "\n",
    "scores = cross_val_score(soft_voting, X_train, y, scoring=\"neg_mean_squared_error\", cv=5)\n",
    "soft_voting_rmse_scores = np.sqrt(-scores)\n",
    "print(soft_voting_rmse_scores.mean())\n",
    "\n",
    "soft_voting.fit(X_train, y)"
   ]
  },
  {
   "cell_type": "markdown",
   "id": "f6e5d210",
   "metadata": {},
   "source": [
    "### 5.2.2. Boosting model"
   ]
  },
  {
   "cell_type": "markdown",
   "id": "dd18c899",
   "metadata": {},
   "source": [
    "I try to use Ada boosting for the achieved 'soft_voting' model. It is noted that the Ada bossting for each individual model was also tried. However, the performances of those boosting models were not good. On the other hand, sometimes, I did capture slight improvemements when I try Ada boosting for the achieved 'soft_voting' model."
   ]
  },
  {
   "cell_type": "code",
   "execution_count": 36,
   "id": "026ae1b2",
   "metadata": {
    "scrolled": true
   },
   "outputs": [
    {
     "name": "stdout",
     "output_type": "stream",
     "text": [
      "9.477948955572309\n"
     ]
    },
    {
     "data": {
      "text/plain": [
       "AdaBoostRegressor(base_estimator=VotingRegressor(estimators=[('lr',\n",
       "                                                              LinearRegression()),\n",
       "                                                             ('forest',\n",
       "                                                              RandomForestRegressor(max_features='log2',\n",
       "                                                                                    n_estimators=50)),\n",
       "                                                             ('svm',\n",
       "                                                              LinearSVR(loss='squared_epsilon_insensitive',\n",
       "                                                                        tol=1e-05))]),\n",
       "                  learning_rate=0.5, n_estimators=1000)"
      ]
     },
     "execution_count": 36,
     "metadata": {},
     "output_type": "execute_result"
    }
   ],
   "source": [
    "# Ada boosting\n",
    "from sklearn.ensemble import AdaBoostRegressor\n",
    "\n",
    "adb_rgr = AdaBoostRegressor(soft_voting, n_estimators=1000, learning_rate=0.5)\n",
    "\n",
    "scores = cross_val_score(adb_rgr, X_train, y, scoring=\"neg_mean_squared_error\", cv=5)\n",
    "adb_rgr_rmse_scores = np.sqrt(-scores)\n",
    "print(adb_rgr_rmse_scores.mean())\n",
    "\n",
    "adb_rgr.fit(X_train, y)"
   ]
  },
  {
   "cell_type": "markdown",
   "id": "37e21f7f",
   "metadata": {},
   "source": [
    "# 6. Predict test data & choose final model"
   ]
  },
  {
   "cell_type": "markdown",
   "id": "fbbaf354",
   "metadata": {},
   "source": [
    "First, I need to conduct the same operations that I did for trainind data set. These operations include converting year to age, removing 'year', 'title', 'artist', 'top genre' columns, and adding 'age2' and 'dur2' columns as belows:"
   ]
  },
  {
   "cell_type": "code",
   "execution_count": 39,
   "id": "f6d466b5",
   "metadata": {},
   "outputs": [],
   "source": [
    "df_test = pd.read_csv('RegressionTest.csv')\n",
    "\n",
    "today = date.today()\n",
    "df_test['age'] = today.year - df_test['year']\n",
    "\n",
    "df_test = df_test.drop(['year', 'title', 'artist', 'top genre'], axis=1)\n",
    "df_test['age2'] = df_test['age']**2\n",
    "df_test['dur2'] = df_test['dur']**2\n",
    "# df_test.head()\n",
    "\n",
    "X_test = autoscaler.fit_transform(df_test[features])"
   ]
  },
  {
   "cell_type": "markdown",
   "id": "4e66b014",
   "metadata": {},
   "source": [
    "Base on the mean values of root mean square errors (obtained using cross validation techique) were printed out. Three models often have best scores on the traning set, including Random Forest, Soft Voting and Ada Boosting, were used to predict test set and then submit for scoring on Kaggle.\n",
    "\n",
    "The Soft-voting model always gains the best RMSE score for prediction on Kaggle. Therefore, the finally chosen model is Soft-voting !\n",
    "\n",
    "In this notebook file, I only make prediction for test set using Soft-voting model."
   ]
  },
  {
   "cell_type": "code",
   "execution_count": 41,
   "id": "5bb6b9b8",
   "metadata": {},
   "outputs": [],
   "source": [
    "# Load the pickled model\n",
    "pop1 = soft_voting.predict(X_test)\n",
    "dfpop1 = df_test.copy()\n",
    "dfpop1['pop'] = pop1\n",
    "dfpop1 = dfpop1[['Id', 'pop']]\n",
    "dfpop1.to_csv('Predict1.csv', index=False)"
   ]
  }
 ],
 "metadata": {
  "kernelspec": {
   "display_name": "Python 3",
   "language": "python",
   "name": "python3"
  },
  "language_info": {
   "codemirror_mode": {
    "name": "ipython",
    "version": 3
   },
   "file_extension": ".py",
   "mimetype": "text/x-python",
   "name": "python",
   "nbconvert_exporter": "python",
   "pygments_lexer": "ipython3",
   "version": "3.8.8"
  }
 },
 "nbformat": 4,
 "nbformat_minor": 5
}
